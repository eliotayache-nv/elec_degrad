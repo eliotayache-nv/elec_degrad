{
 "cells": [
  {
   "cell_type": "markdown",
   "id": "bef86e31",
   "metadata": {},
   "source": [
    "# Electron degradation"
   ]
  },
  {
   "cell_type": "markdown",
   "id": "2d71737d",
   "metadata": {},
   "source": [
    "This notebook builds a tool for parameter exploration for the processes involved in electron degradation. The processes are:\n",
    "\n",
    "- **Plasma losses:** Coulomb interactions with free thermal electrons.\n",
    "    - Huba2013 (in the limit with the $\\beta$-particle energy far exceeds that of the electrons).\n",
    "- **Bremsstrahlung**:\n",
    "    - Barnes&Kasen2016 (corrected):  Includes tabulated cross-sections from Seltzer&Berger for various compositions. Typo corrected: eq.13 $r_0$ is incorrect and replaced by $r_e$. Includes screening at low energies.\n",
    "    - Bethe1934: Does not include screening at low energies.\n",
    "- **Ionization/Excitation**:\n",
    "    - Barnes&Kasen2016: includes excitation and ionization for averaged comopsition (one set of values for $A$ and $Z$).\n",
    "    - Bethe formulation (from Kasen&Barnes2019): non-relativistic. Only includes ionization.\n",
    "- **Synchrotron**\n",
    "    - Barnes&Kasen2016: total synchrotron radiated energy for a single electron."
   ]
  },
  {
   "cell_type": "markdown",
   "id": "4dc6b636",
   "metadata": {},
   "source": [
    "### Exploring the different contributions to the energy loss rate for accelerated electrons."
   ]
  },
  {
   "cell_type": "markdown",
   "id": "1a949b46",
   "metadata": {},
   "source": [
    "We start with a bunch of constants and utility functions:"
   ]
  },
  {
   "cell_type": "code",
   "execution_count": 1,
   "id": "802f7e15",
   "metadata": {},
   "outputs": [
    {
     "name": "stderr",
     "output_type": "stream",
     "text": [
      "/Users/elay7268/opt/miniconda3/envs/elec_degrad/lib/python3.7/site-packages/ipykernel_launcher.py:17: UserWarning: Style includes a parameter, 'backend', that is not related to style.  Ignoring\n"
     ]
    }
   ],
   "source": [
    "'''\n",
    "This code outputs the energy loss rates following Barnes&Kasen2016\n",
    "(ApJ 829:110, 2016)\n",
    "Section 3: Thermalisation physics.\n",
    "Processes by which energetic decay products thermalize in the KN ejecta.\n",
    "Focus on beta-particles.\n",
    "(Taken from ./energyLossrates.py)\n",
    "'''\n",
    "\n",
    "import numpy as np\n",
    "import matplotlib.pyplot as plt\n",
    "import pandas as pd\n",
    "from scipy.interpolate import interp1d\n",
    "import sys\n",
    "import textwrap\n",
    "import matplotlib.style as style\n",
    "style.use('special')\n",
    "\n",
    "# Constants\n",
    "e_ = 4.80320425e-10 # elementary charge (statcoulomb) (CGS)\n",
    "lambda_ee_ = 10  # Coulomb logarithm for electron-electron scattering\n",
    "m_e_ = 9.10938356e-28  # electron mass (g)\n",
    "m_p_ = 1.6726219e-24 # proton mass (g)\n",
    "r_e_ = 2.8179403227e-13  # classical electron radius (cm)\n",
    "m_u_ = 1.660539e-24  # nuclear mass unit (g)\n",
    "c_ = 2.99792458e10  # light speed (cm/s)\n",
    "kB_ = 8.617333262145e-11  # Boltzmann constant (MeV/K)\n",
    "Msun_ = 2.0e33 # Solar mass (g)\n",
    "r_0_ = 1.8e-13 # nuclear radius coef for deformed post-scission nuclei (cm)\n",
    "alpha_ = 1./137. # fine structure constant \n",
    "h_bar_ = 1.0546e-27 # reduced plank constant (cm2 g s-1) (CGS)\n",
    "eps_0_ = 1. # vacuum permittivity (unity in CGS)\n",
    "\n",
    "delta_ = 1  # power-law profile for inner ejecta (Barnes&Kasen2016)\n",
    "n_ = 1  # power-law profile for outer ejecta (Barnes&Kasen2016)\n",
    "\n",
    "\n",
    "def to_erg(E):\n",
    "    return(E*1.60218e-6)\n",
    "\n",
    "\n",
    "def to_MeV(E):\n",
    "    return(E/1.60218e-6)"
   ]
  },
  {
   "cell_type": "markdown",
   "id": "9919b5bc",
   "metadata": {},
   "source": [
    "#### Plasma losses\n",
    "Coulomb interactions with free thermal electrons. In the limit that the $\\beta$-particle energy far exceeds that of thermal electrons, **Huba2013** gives:\n",
    "\n",
    "$\\dot{E}^\\mathrm{pl}_\\beta = 7.7 \\times 10^{-15} E_\\beta^{-1/2} \\times \\left(\\frac{n_e}{1 \\mathrm{cm}^{-3}} \\right)\n",
    "\\lambda_{ee} \\left( 1.0 - \\frac{3.9}{7.7} \\frac{T}{E_\\beta} \\right) \\mathrm{MeV~s}^{-1}$"
   ]
  },
  {
   "cell_type": "code",
   "execution_count": 2,
   "id": "a9b43ac5",
   "metadata": {},
   "outputs": [],
   "source": [
    "def plasma_losses(E_beta, n_e, T):\n",
    "    ''' Returns beta_particle losses from interaction with free thermal\n",
    "    electrons (MeV/s).\n",
    "    args:\n",
    "    E_beta = beta-particle kinetic energy (MeV)\n",
    "    n_e = free electron number density (cm-3)\n",
    "    T = ejecta temperature (MeV)\n",
    "    '''\n",
    "\n",
    "    return(7.7e-15 \n",
    "           * E_beta**(-.5) \n",
    "           * n_e * lambda_ee_ \n",
    "           * (1. - (3.9 / 7.7) * T / E_beta))"
   ]
  },
  {
   "cell_type": "markdown",
   "id": "0e577b44",
   "metadata": {},
   "source": [
    "This assumes that the dominating interactions are electron/electron (ignoring electron/ion interactions). This depends on the density of free thermal electrons, and thus the composition of the medium. It is not clear in Barnes&Kasen2016 whether they assume that all free thermal electrons only come from atoms heavier than hydrogen.\n",
    "\n",
    "**The composition does not evolve significantly over the course of 1-10 days.**\n",
    "\n",
    "- Inner ejecta: single component mean composition Z=60 A=144\n",
    "- Outer ejecta: 2-component: Hydrogen Z=1 A=1, heavy elems Z=55 A=133\\\n",
    "But that hydrogen does not contribute to plasma because it is only singly ionised. Decray of neutrons into protons. A says it should be a small mass component.\n",
    "\n",
    "Axelrod has discussion on this."
   ]
  },
  {
   "cell_type": "markdown",
   "id": "b6f29e9f",
   "metadata": {},
   "source": [
    "#### IE losses\n",
    "When $\\beta$-particles are exciting or ionizing bound atomic electrons.\n",
    "\n",
    "We expect Barnes and Bethe to agree at high energies because Ionization starts dominating, and Bethe does not include a proper description of Excitation only. This ignores relativistic corrections however, which could explain the discrepancy at high energies.\n",
    "\n",
    "*Barnes:*\n",
    "\n",
    "$\\dot{E}_\\beta^\\mathrm{IE} = \n",
    "\\frac{2\\pi r_e^2 m_e c^3 n_\\mathrm{e,b}}{v_\\beta/c} \n",
    "\\times [ 2\\ln(E_\\beta/\\bar{I}) + \\ln(1+\\tau/2) + (1+v_\\beta^2/c^2)g(\\tau)]$\n",
    "\n",
    "$g(\\tau) = 1+ \\frac{\\tau^2}{8} - (2\\tau+1)\\ln2$\n",
    "\n",
    "*Comments:*\n",
    "- Dependency on composition comes through $\\bar{I}$ (Average Ionization and Excitation potential).\n",
    "- Tau is a measure of the particle kinetic energy normalised by rest-mass energy."
   ]
  },
  {
   "cell_type": "code",
   "execution_count": 3,
   "id": "f1c1b1b9",
   "metadata": {},
   "outputs": [],
   "source": [
    "def calc_n_eb(rho, z_over_a):\n",
    "    ''' Returns the bound electron number density (cm-3) for a given\n",
    "    average Z/A.\n",
    "    args:\n",
    "    rho = mass density (g/cm-3)\n",
    "    z_over_a = composition (0.4 inner / 0.55 outer ejecta)\n",
    "    '''\n",
    "    return(rho / m_u_ * z_over_a)\n",
    "\n",
    "\n",
    "def IE_Barnes(E_beta, Ibar, v_beta, n_eb, chi=1, get_name=False):\n",
    "    ''' Returns beta_particle losses due to ionization and excitation\n",
    "    of atomic electrons (MeV/s).\n",
    "    args:\n",
    "    E_beta = beta-particle kinetic energy (MeV)\n",
    "    I_bar = average ionization and excitation potential (MeV) (eq. 9)\n",
    "    v_beta = beta-particle speed (cm/s)\n",
    "    n_eb = bound electron number density (cm-3) \n",
    "    '''\n",
    "    \n",
    "    _ = chi\n",
    "    \n",
    "    if get_name:\n",
    "        return(\"IE_Barnes\")\n",
    "\n",
    "    tau = to_erg(E_beta) / (m_e_ * c_**2) \n",
    "    g = 1 + tau**2 / 8 - (2*tau+1) * np.log(2)\n",
    "    Edot_IE = 2*np.pi * r_e_**2 * m_e_ * c_**3 * n_eb / (v_beta/c_)\n",
    "    Edot_IE *= (2 * np.log(E_beta/Ibar) \n",
    "                + np.log(1 + tau/2) \n",
    "                + (1 - (v_beta/c_)**2) * g)\n",
    "\n",
    "    return(to_MeV(Edot_IE))\n",
    "\n",
    "def IE_Bethe(E_beta, I_bar, v_beta, n_eb, chi=1, get_name=False):\n",
    "    '''Returns beta_particle losses due to ionization\n",
    "    of atomic electrons (MeV/s). Does not include excitation.\n",
    "    From the Bethe formula as reported in Kasen&Barnes2019 eq. 5.\n",
    "    args:\n",
    "    E_beta = beta-particle kinetic energy (MeV)\n",
    "    chi = effective ionization potential (=1 for non-relativistic e-)\n",
    "    v_beta = beta-particle speed (cm/s)\n",
    "    n_eb = bound electron number density (cm-3) \n",
    "    '''\n",
    "    \n",
    "    _ = I_bar\n",
    "    \n",
    "    if get_name:\n",
    "        return(\"IE_Bethe\")\n",
    "    \n",
    "    E_beta_tot = m_e_ * c_**2 + to_erg(E_beta)  # total energy\n",
    "    cst = - np.pi * e_**4 / m_e_\n",
    "    Edot = cst * n_eb / v_beta * np.log(E_beta_tot/chi)\n",
    "    return(to_MeV(Edot))\n",
    "    "
   ]
  },
  {
   "cell_type": "markdown",
   "id": "08129e93",
   "metadata": {},
   "source": [
    "#### Synchrotron losses\n",
    "This is strongly dependent on the magnetic field. This is negligible in the kilonova for the expected magnetic field values of 3.6e-6G at 1 day (extracted from eq. 12, Barnes&Kasen2016)\n",
    "\n",
    "$\\dot{E}_\\beta^\\mathrm{syn} = \\frac{4}{9} r_e$"
   ]
  },
  {
   "cell_type": "code",
   "execution_count": 4,
   "id": "71f052d1",
   "metadata": {},
   "outputs": [],
   "source": [
    "def synch_losses(v_beta, B):\n",
    "    ''' Returns synchrotron losses from Barnes&Kasen2016 eq. 11. (MeV/s)\n",
    "    args:\n",
    "    v_beta = beta particle velocity (cm/s)\n",
    "    B = Magnetic field strength (G)\n",
    "    '''\n",
    "    gamma = np.sqrt(1./(1-(v_beta/c_)**2))\n",
    "    loss = (4./9.) * r_e_**2 * c_ * gamma**2 * (v_beta / c_)**2 * B**2\n",
    "    return(to_MeV(loss))"
   ]
  },
  {
   "cell_type": "markdown",
   "id": "375c6f4f",
   "metadata": {},
   "source": [
    "#### Bremsstrahlung\n",
    "This is tricky! Strongly depends on the composition. Assumptions have to be made on the average atomic number of the ejecta, which will also vary depending on whether you are in the inner or outer ejecta. Cross-sections have been tabulated by **Seltzer&Berger1986**."
   ]
  },
  {
   "cell_type": "code",
   "execution_count": 5,
   "id": "c4d84527",
   "metadata": {},
   "outputs": [],
   "source": [
    "def phirad(E_beta, Z):\n",
    "    ''' Returns the scaled total integrated radiative energy-loss \n",
    "    cross-section from Bremsstrahlung (Seltzer&Berger1986)\n",
    "    Notation: phirad\n",
    "    args:\n",
    "    E_beta = electron kinetic energy (MeV)\n",
    "    Z = Atomic number\n",
    "        (characteristic inner ejecta values Z = 60; A = 144)\n",
    "        (characteristic outer ejecta values, two components\n",
    "        Z = 1; A = 1 (hydrogen) and Z = 55; A = 133 (heavier elems))\n",
    "    '''\n",
    "\n",
    "    filename = \"phirad_Z%d.csv\" % Z\n",
    "    try:\n",
    "        data = pd.read_csv(filename, delimiter=\" \")\n",
    "    except FileNotFoundError:\n",
    "        print(textwrap.dedent(\"\"\"\n",
    "              %s File not found. \n",
    "              You are probably asking for a value of Z that is not tabulated here. \n",
    "              See Seltzer&Berger1986 for tabulations for all values.\n",
    "              \"\"\" % filename))\n",
    "        return(-1)\n",
    "    \n",
    "    T1_arr = data.T1.to_numpy() # in MeV, so simply E_beta\n",
    "    phirad_arr = data.phirad.to_numpy()\n",
    "    \n",
    "    def log_interp1d(xx, yy, kind='linear'):\n",
    "        logx = np.log10(xx)\n",
    "        logy = np.log10(yy)\n",
    "        lin_interp = interp1d(logx, logy, kind=kind)\n",
    "        log_interp = lambda zz: np.power(10.0, lin_interp(np.log10(zz)))\n",
    "        return log_interp\n",
    "    \n",
    "    phirad_interp = log_interp1d(T1_arr, phirad_arr)\n",
    "    \n",
    "    return(phirad_interp(E_beta))\n",
    "\n",
    "\n",
    "def Brem_Barnes(n_i, v_beta, E_beta, Z, Z_charge, get_name=False):\n",
    "    ''' Returns losses due to Bremsstrahlung from \n",
    "    Barnes&Kasen2016 eq.13 (MeV)\n",
    "    n_i = number density of the scattering species (cm-3)\n",
    "    v_beta = beta particle velocity (cm/s)\n",
    "    E_beta = Beta particle kinetic energy (MeV)\n",
    "    Z = Atomic number \n",
    "        (characteristic inner ejecta values Z = 60; A = 144)\n",
    "        (characteristic outer ejecta values, two components\n",
    "        Z = 1; A = 1 (hydrogen) and Z = 55; A = 133 (heavier elems))\n",
    "    '''\n",
    "    \n",
    "    _ = Z_charge\n",
    "    \n",
    "    if get_name:\n",
    "        return(\"Brem_Barnes\")\n",
    "    \n",
    "    E_dot = (n_i * v_beta * (to_erg(E_beta) + m_e_*c_**2)\n",
    "             * Z**2 * r_e_**2 * alpha_ * phirad(E_beta, Z))\n",
    "#     E_dot = (n_i * v_beta * (to_erg(E_beta) + m_e_*c_**2)\n",
    "#              * Z**2 * r_0_**2 * alpha_ * phirad(E_beta, Z))\n",
    "    return(to_MeV(E_dot))\n",
    "\n",
    "\n",
    "def Brem_Bethe(N, v_beta, E_beta, Z, Z_charge, get_name=False):\n",
    "    '''Returns losses due to Bremsstrahlung from Bethe&Heitler1934\n",
    "    as reported in Longair2012 eq 6.74.\n",
    "    This only includes ionization.\n",
    "    N = number density of the scattering species (cm-3)\n",
    "    E_beta = Beta particle kinetic energy (MeV)\n",
    "    Z_charge = charge of the nucleus (not the atom) (units of e_)\n",
    "               (it is identical to the atomic number Z)\n",
    "    '''\n",
    "\n",
    "    _ = v_beta\n",
    "    _ = Z\n",
    "    \n",
    "    if get_name:\n",
    "        return(\"Brem_Bethe\")\n",
    "\n",
    "    E_beta_tot = m_e_*c_**2 + to_erg(E_beta)\n",
    "    a = e_**6 /(16 * (np.pi*eps_0_)**3 * m_e_**2*c_**4*h_bar_)\n",
    "    E_dot = a * Z_charge*(Z_charge+1.3) * N * E_beta_tot * (np.log(183./(Z_charge**(1./3.))) + 1./8.)\n",
    "    return(to_MeV(E_dot))\n",
    "\n",
    "\n",
    "def Brem_Bethe_SI(N, v_beta, E_beta, Z, Z_charge, get_name=False):\n",
    "    '''Returns losses due to Bremsstrahlung from Bethe&Heitler1934\n",
    "    as reported in Longair2012 eq 6.74.\n",
    "    This only includes ionization.\n",
    "    N = number density of the scattering species (cm-3)\n",
    "    E_beta = Beta particle kinetic energy (MeV)\n",
    "    Z_charge = charge of the nucleus (not the atom) (units of e_)\n",
    "               (it is identical to the atomic number Z)\n",
    "    '''\n",
    "\n",
    "    _ = v_beta\n",
    "    _ = Z\n",
    "    \n",
    "    if get_name:\n",
    "        return(\"Brem_Bethe_SI\")\n",
    "    \n",
    "    erg_to_SI = lambda E : E * 1.e-7\n",
    "    SI_to_erg = lambda E : E * 1.e7\n",
    "    \n",
    "    N_SI = N * 1.e6\n",
    "    \n",
    "    eps_0_SI_ = 8.8542e-12 # C2 m-2 N-1\n",
    "    m_e_SI_ = m_e_ * 1.e-3\n",
    "    c_SI_ = c_ * 1.e-2\n",
    "    e_SI_ = 1.6022e-19 # C\n",
    "    h_bar_SI_ = 6.6261e-34 / (2.*np.pi) # J s\n",
    "    \n",
    "    E_beta_tot = erg_to_SI(m_e_*c_**2 + to_erg(E_beta))\n",
    "    a = e_SI_**6 /(16 * (np.pi*eps_0_SI_)**3 * m_e_SI_**2*c_SI_**4*h_bar_SI_)\n",
    "    gaunt = (np.log(183./(Z_charge**(1./3.))) + 1./8.)\n",
    "    lfac = 1 / np.sqrt(1 - (v_beta/c_)**2)\n",
    "#     gaunt = np.log(lfac) + 0.36\n",
    "    E_dot = a * Z_charge*(Z_charge+1.3) * N_SI * E_beta_tot * gaunt\n",
    "    return(to_MeV(SI_to_erg(E_dot)))"
   ]
  },
  {
   "cell_type": "markdown",
   "id": "3d974e93",
   "metadata": {},
   "source": [
    "### Typical values\n",
    "\n",
    "#### Supernova\n",
    "Ejecta mass: $M_\\mathrm{ej} = 10^{-3} M_\\odot$ \\\n",
    "Ejecta velocity: $v_\\mathrm{ej} = 0.2c$\n",
    "\n",
    "We look at $t=1$day.\n",
    "\n",
    "Ejecta density = $M_\\mathrm{ej} / \\frac{4}{3} \\pi (v_\\mathrm{ej}t)^3 = 1.7 \\times 10^{14}$ g.cm$^{-2}$\n",
    "\n",
    "#### GRB\n",
    "Ejecta density: $n \\sim 100$ directly downstream of the shock (from GAMMA simulations).\n",
    "\n",
    "Temperature (from GAMMA simulations, pe- plasma): $k_BT = P/(2n)$ => $10^8 \\mathrm{K} - 10^{11} \\mathrm{K}$\n",
    "\n",
    "Magnetic field (from GAMMA simulations): $B = \\sqrt{8\\pi E_B}$ => $\\sim 10^3 \\mathrm{G} = 10^{-1} \\mathrm{T}$\n"
   ]
  },
  {
   "cell_type": "code",
   "execution_count": 6,
   "id": "da1d4ca1",
   "metadata": {},
   "outputs": [
    {
     "name": "stdout",
     "output_type": "stream",
     "text": [
      "1.717189e-14\n"
     ]
    }
   ],
   "source": [
    "M_ej = 5.e-3 * Msun_\n",
    "v_ej = 0.2 * c_\n",
    "t = 1 * 86400.\n",
    "rho_ej = M_ej / ((4./3.) * np.pi * (v_ej * t)**3)\n",
    "print(\"%e\" %rho_ej)"
   ]
  },
  {
   "cell_type": "markdown",
   "id": "1c6d78ac",
   "metadata": {},
   "source": [
    "For a given mass density and mass number A, we can compute the number density of scattering species for Bremsstrahlung:"
   ]
  },
  {
   "cell_type": "code",
   "execution_count": 7,
   "id": "a060744d",
   "metadata": {},
   "outputs": [],
   "source": [
    "A = 144 # inner ejecta\n",
    "n_i = rho_ej / (A*m_p_)  # number density of scattering species (nuclei)"
   ]
  },
  {
   "cell_type": "markdown",
   "id": "bef3be57",
   "metadata": {},
   "source": [
    "We can now compute the contributions from plasma, IE and Bremsstrahlung losses. We start by setting up the KN parameters"
   ]
  },
  {
   "cell_type": "code",
   "execution_count": 8,
   "id": "d0738858",
   "metadata": {},
   "outputs": [],
   "source": [
    "E_beta = np.logspace(-3, 4, 100) # particle kinetic energy (MeV)\n",
    "T = 1e-6 # MeV\n",
    "Z = 60   # for inner ejecta\n",
    "A = 144  #for inner ejecta\n",
    "\n",
    "n_e = rho_ej / (A * m_p_) * (1./Z)  # number density of bound electrons\n",
    "    # elements heavier than H are singly ionized (low temperatures)\n",
    "    # Composition from Barnes+2016 fig.1 (took A_heavy=1.e-3)\n",
    "    # (this can be refined)\n",
    "    \n",
    "Ibar = np.exp(6.4) * 1.e-6 # (MeV)\n",
    "gamma_beta = 1 + to_erg(E_beta) / (m_e_ * c_**2)\n",
    "v_beta = np.sqrt(1 - 1./gamma_beta**2) * c_\n",
    "rho = rho_ej\n",
    "B = 3.7e-6"
   ]
  },
  {
   "cell_type": "markdown",
   "id": "fb7f0e22",
   "metadata": {},
   "source": [
    "### Plotting function"
   ]
  },
  {
   "cell_type": "code",
   "execution_count": 9,
   "id": "1365a0be",
   "metadata": {},
   "outputs": [],
   "source": [
    "def plot_rates(T, rho, B, Z, Z_charge, A, Brem=[Brem_Barnes], IE=[IE_Barnes]):\n",
    "    \n",
    "    n_eb = calc_n_eb(rho, Z/A)\n",
    "    n_e = rho / (A * m_p_) * (1./Z)\n",
    "    n_i = rho / (A*m_p_)\n",
    "    \n",
    "    gamma_beta = 1 + to_erg(E_beta) / (m_e_ * c_**2)\n",
    "    v_beta = np.sqrt(1 - 1./gamma_beta**2) * c_\n",
    "    \n",
    "    plasma = plasma_losses(E_beta, n_e, T) / rho\n",
    "    synch = synch_losses(v_beta, B) / rho\n",
    "    \n",
    "    IEs = [f(E_beta, Ibar, v_beta, n_eb) / rho for f in IE]\n",
    "    IEs_names = [f(E_beta, Ibar, v_beta, n_eb, get_name=True) for f in IE]\n",
    "    Brems = [f(n_i, v_beta, E_beta, Z, Z_charge) / rho for f in Brem]\n",
    "    Brems_names = [f(n_i, v_beta, E_beta, Z, Z_charge, get_name=True) for f in Brem]\n",
    "    \n",
    "    fig = plt.figure()\n",
    "    plt.plot(E_beta, plasma, c='C0', label='plasma')\n",
    "    plt.plot(E_beta, synch, c='C1', label = 'synchrotron')\n",
    "    \n",
    "    styles = ['-', '--', ':']\n",
    "    \n",
    "    [plt.plot(E_beta, loss, c='C2', ls=style, label=name) for loss, name, style in zip(IEs, IEs_names, styles)]\n",
    "    [plt.plot(E_beta, loss, c='C3', ls=style, label=name) for loss, name, style in zip(Brems, Brems_names, styles)]\n",
    "\n",
    "    plt.xscale('log')\n",
    "    plt.yscale('log')\n",
    "    plt.legend()\n",
    "    plt.show()\n",
    "    \n",
    "    return(fig)"
   ]
  },
  {
   "cell_type": "code",
   "execution_count": 10,
   "id": "0cacf8f3",
   "metadata": {},
   "outputs": [
    {
     "data": {
      "application/vnd.jupyter.widget-view+json": {
       "model_id": "7f6daed7fccf4d4a86ef105a5f680012",
       "version_major": 2,
       "version_minor": 0
      },
      "text/plain": [
       "Canvas(toolbar=Toolbar(toolitems=[('Home', 'Reset original view', 'home', 'home'), ('Back', 'Back to previous …"
      ]
     },
     "metadata": {},
     "output_type": "display_data"
    },
    {
     "data": {
      "image/png": "[encoded data removed]",
      "text/plain": [
       "<Figure size 640x480 with 1 Axes>"
      ]
     },
     "execution_count": 10,
     "metadata": {},
     "output_type": "execute_result"
    }
   ],
   "source": [
    "%matplotlib widget\n",
    "Z_charge = Z\n",
    "plot_rates(T, rho, B, Z, Z_charge, A, Brem=[Brem_Barnes, Brem_Bethe_SI], IE=[IE_Barnes, IE_Bethe])"
   ]
  },
  {
   "cell_type": "code",
   "execution_count": 11,
   "id": "e53c22bf",
   "metadata": {},
   "outputs": [
    {
     "data": {
      "application/vnd.jupyter.widget-view+json": {
       "model_id": "aafa5ec6d1de4704b316b6a2e428bf15",
       "version_major": 2,
       "version_minor": 0
      },
      "text/plain": [
       "Canvas(toolbar=Toolbar(toolitems=[('Home', 'Reset original view', 'home', 'home'), ('Back', 'Back to previous …"
      ]
     },
     "metadata": {},
     "output_type": "display_data"
    }
   ],
   "source": [
    "%matplotlib widget\n",
    "ratio = Brem_Bethe_SI(n_i, v_beta, E_beta, Z, Z_charge) / Brem_Barnes(n_i, v_beta, E_beta, Z, Z_charge)\n",
    "plt.plot(E_beta, ratio)\n",
    "plt.xscale('log')\n",
    "plt.yscale('log')"
   ]
  },
  {
   "cell_type": "markdown",
   "id": "94243e84",
   "metadata": {},
   "source": [
    "### Parameter exploration\n",
    "\n",
    "We ll take a look at the losses as a function of $T$, $\\rho$ and $B$.\n",
    "\n",
    "The questions are:\n",
    "- Can synchrotron dominate at some point in KN evolution?\n",
    "- Can something else than Synchrotron dominate at some point in GRB afterglows?"
   ]
  },
  {
   "cell_type": "code",
   "execution_count": 12,
   "id": "d23eedd5",
   "metadata": {},
   "outputs": [
    {
     "data": {
      "application/vnd.jupyter.widget-view+json": {
       "model_id": "50f41049881947a588c627f11e7a870f",
       "version_major": 2,
       "version_minor": 0
      },
      "text/plain": [
       "HBox(children=(Output(), VBox(children=(Select(description='Ejecta type', index=1, options=('Hydrogen', 'Inner…"
      ]
     },
     "metadata": {},
     "output_type": "display_data"
    }
   ],
   "source": [
    "%matplotlib inline\n",
    "from ipywidgets import *\n",
    "\n",
    "Tpe = widgets.Select(description='Ejecta type', \n",
    "                     options=['Hydrogen', 'Inner ejecta'], \n",
    "                     value='Inner ejecta')\n",
    "IE = widgets.SelectMultiple(description='IE_losses',\n",
    "                            options=['Barnes', 'Bethe (non-rel)'],\n",
    "                            value=['Barnes'])\n",
    "Brem = widgets.SelectMultiple(description='Bremsstrahlung',\n",
    "                              options=['Barnes (Corrected)', 'Bethe_SI'],\n",
    "                              value=['Barnes (Corrected)'])\n",
    "\n",
    "T = widgets.FloatLogSlider(description='T', min=-10, max=10, value=1.e-6, step=1)\n",
    "rho = widgets.FloatLogSlider(description='rho', min=-18, max=-10, value=1.e-14, step=1)\n",
    "B = widgets.FloatLogSlider(description='B', min=-10, max=5, value=1.e-6, step=1)\n",
    "Z = widgets.Dropdown(description='Z', options=[1,60], value=60)\n",
    "A = widgets.Dropdown(description='A', options=[1,133,144], value=144)\n",
    "params_ui = widgets.VBox([Tpe, Brem, IE,\n",
    "                          T, rho, B, Z, A])\n",
    "\n",
    "def update_Z_A(*args):\n",
    "    if Tpe.value == 'Hydrogen':\n",
    "        Z.value = 1\n",
    "        A.value = 1\n",
    "    if Tpe.value == 'Inner ejecta':\n",
    "        Z.value = 60\n",
    "        A.value = 144\n",
    "    if Tpe.value == 'Outer':\n",
    "        Z.value = 55\n",
    "        A.value = 133\n",
    "Tpe.observe(update_Z_A, 'value')\n",
    "\n",
    "def update(Tpe, T, rho, B, Z, A, Brem, IE):\n",
    "    \n",
    "    Brem_dict = {\"Barnes (Corrected)\":Brem_Barnes, \"Bethe_SI\":Brem_Bethe_SI}\n",
    "    Brem_opt = [Brem_dict[b] for b in Brem]\n",
    "    IE_dict = {\"Barnes\":IE_Barnes, \"Bethe (non-rel)\":IE_Bethe}\n",
    "    IE_opt = [IE_dict[i] for i in IE]\n",
    "    \n",
    "    plot_rates(T, rho, B, Z, Z, A, Brem=Brem_opt, IE=IE_opt)\n",
    "        \n",
    "out = widgets.interactive_output(update, \n",
    "                                 {'Tpe':Tpe, 'T': T, 'rho': rho, 'B': B, 'Z':Z, 'A':A, 'Brem':Brem, 'IE':IE})\n",
    "\n",
    "ui = widgets.HBox([out, params_ui])\n",
    "display(ui)\n"
   ]
  },
  {
   "cell_type": "markdown",
   "id": "4a68b15d",
   "metadata": {},
   "source": [
    "Now we need to evolve this following Meztger review for temperature and density."
   ]
  },
  {
   "cell_type": "markdown",
   "id": "5814cf2e",
   "metadata": {},
   "source": [
    "A: Goes into homologuous expansion: $\\rho \\propto t^{-3}$. Quentin's work suggests that T might be increasing. In some models. T might go up to $10^{5}K$, but probably not above. "
   ]
  },
  {
   "cell_type": "markdown",
   "id": "835cba68",
   "metadata": {},
   "source": [
    "hello"
   ]
  },
  {
   "cell_type": "markdown",
   "id": "4525dd7e",
   "metadata": {},
   "source": [
    "# Plotly visualisation"
   ]
  },
  {
   "cell_type": "markdown",
   "id": "0c253f2c",
   "metadata": {},
   "source": [
    "## Fixed parameters"
   ]
  },
  {
   "cell_type": "code",
   "execution_count": 13,
   "id": "c683a9a7",
   "metadata": {},
   "outputs": [],
   "source": [
    "E_beta = np.logspace(-3, 4, 100) # particle kinetic energy (MeV)    \n",
    "Ibar = np.exp(6.4) * 1.e-6 # (MeV)"
   ]
  },
  {
   "cell_type": "markdown",
   "id": "85cf9ed2",
   "metadata": {},
   "source": [
    "## Functions used for visualisation"
   ]
  },
  {
   "cell_type": "code",
   "execution_count": 14,
   "id": "480a4fc3",
   "metadata": {},
   "outputs": [],
   "source": [
    "%matplotlib inline\n",
    "from ipywidgets import *\n",
    "import pandas as pd\n",
    "from plotly import graph_objs as go"
   ]
  },
  {
   "cell_type": "code",
   "execution_count": 15,
   "id": "1165cacb",
   "metadata": {},
   "outputs": [],
   "source": [
    "Ts = np.logspace(-6, 0, 30)\n",
    "rhos = np.logspace(-22, -10, 30)\n",
    "\n",
    "def processes(E_beta, T, rho, B, Z, Z_charge, A, Brem=[Brem_Barnes], IE=[IE_Barnes]):\n",
    "    \n",
    "    n_eb = calc_n_eb(rho, Z/A)\n",
    "    n_e = rho / (A * m_p_) * (1./Z)\n",
    "    n_i = rho / (A*m_p_)\n",
    "    \n",
    "    gamma_beta = 1 + to_erg(E_beta) / (m_e_ * c_**2)\n",
    "    v_beta = np.sqrt(1 - 1./gamma_beta**2) * c_\n",
    "    \n",
    "    plasma = plasma_losses(E_beta, n_e, T) / rho\n",
    "    synch = synch_losses(v_beta, B) / rho\n",
    "    \n",
    "    IE = [f(E_beta, Ibar, v_beta, n_eb) / rho for f in IE]\n",
    "    Brem = [f(n_i, v_beta, E_beta, Z, Z_charge) / rho for f in Brem]\n",
    "    \n",
    "    return(plasma, IE[0], Brem[0], synch)\n",
    "\n",
    "def plotDominantProcess(E_beta_hm, Ts, rhos, B, Z, Z_charge, A, Brem=[Brem_Barnes], IE=[IE_Barnes]):\n",
    "    \n",
    "    T_arr = np.array([[T for T in Ts] for rho in rhos])\n",
    "    rho_arr = np.array([[rho for T in Ts] for rho in rhos])\n",
    "    procs = np.array([[processes(E_beta_hm, T, rho, B, Z, Z_charge, A, Brem, IE) for T in Ts] for rho in rhos])\n",
    "    normprocs = np.maximum(0, procs/np.max(procs, axis=2, keepdims=True))\n",
    "    print(normprocs[29,29,:])\n",
    "    normprocs = normprocs/np.sum(normprocs, axis=2, keepdims=True)\n",
    "    \n",
    "    from plotly.subplots import make_subplots\n",
    "\n",
    "    rcolorscale = [[0, 'rgba(255,0,0,0)'], [1, 'rgba(255,0,0,1)']]\n",
    "    gcolorscale = [[0, 'rgba(0,255,0,0)'], [1, 'rgba(0,255,0,1)']]\n",
    "    bcolorscale = [[0, 'rgba(0,0,255,0)'], [1, 'rgba(0,0,255,1)']]\n",
    "    kcolorscale = [[0, 'rgba(0,0,0,0)'],   [1, 'rgba(0,0,0,1)']]\n",
    "\n",
    "    plasma = go.Heatmap(z=normprocs[:,:,0], zmax=1, zmin=0, colorscale=rcolorscale,\n",
    "                        customdata=np.dstack((procs[:,:,0], procs[:,:,1], procs[:,:,2], procs[:,:,3], T_arr, rho_arr)),\n",
    "                        hovertemplate='E_dot_plasma: %{customdata[0]:.1e} <br>\\\n",
    "    E_dot_IE: %{customdata[1]:.1e} <br>\\\n",
    "    E_dot_Brem: %{customdata[2]:.1e} <br>\\\n",
    "    E_dot_synch: %{customdata[3]:.1e} ')\n",
    "    IE = go.Heatmap(z=normprocs[:,:,1], zmax=1, zmin=0, colorscale=gcolorscale)\n",
    "    Brem = go.Heatmap(z=normprocs[:,:,2], zmax=1, zmin=0, colorscale=bcolorscale)\n",
    "    synch = go.Heatmap(z=normprocs[:,:,3], zmax=1, zmin=0, colorscale=kcolorscale)\n",
    "\n",
    "    return(Brem, IE, synch, plasma)"
   ]
  },
  {
   "cell_type": "code",
   "execution_count": 16,
   "id": "3bfe05a6",
   "metadata": {},
   "outputs": [
    {
     "name": "stdout",
     "output_type": "stream",
     "text": [
      "[0.00000000e+00 1.00000000e+00 2.19628072e-04 6.38677515e-25]\n"
     ]
    }
   ],
   "source": [
    "Tpe = widgets.Select(description='Ejecta type', \n",
    "                     options=['Hydrogen', 'Inner ejecta', 'GRB afterglow'], \n",
    "                     value='Inner ejecta')\n",
    "IE = widgets.SelectMultiple(description='IE_losses',\n",
    "                            options=['Barnes', 'Bethe (non-rel)'],\n",
    "                            value=['Barnes'])\n",
    "Brem = widgets.SelectMultiple(description='Bremsstrahlung',\n",
    "                              options=['Barnes (Corrected)', 'Bethe_SI'],\n",
    "                              value=['Barnes (Corrected)'])\n",
    "\n",
    "E_beta_eval = widgets.FloatLogSlider(description='E_beta', min=-3, max=5, value=0, step=1)\n",
    "T = widgets.FloatLogSlider(description='T', min=-10, max=3, value=1.e-6, step=1)\n",
    "rho = widgets.FloatLogSlider(description='rho', min=-18, max=-10, value=1.e-14, step=1)\n",
    "B = widgets.FloatLogSlider(description='B', min=-10, max=5, value=1.e-6, step=1)\n",
    "Z = widgets.Dropdown(description='Z', options=[1,60], value=60)\n",
    "A = widgets.Dropdown(description='A', options=[1,133,144], value=144)\n",
    "\n",
    "g = go.FigureWidget(data=[*plotDominantProcess(E_beta_eval.value, Ts, rhos, B.value, Z.value, Z_charge, A.value)])\n",
    "g.update_layout(\n",
    "    title=\"Dominant process\",\n",
    "    xaxis_title=\"Temperature T(K)\",\n",
    "    yaxis_title=\"Density rho(g/cm3)\")\n",
    "\n",
    "def update_Z_A(*args):\n",
    "    if Tpe.value == 'Hydrogen':\n",
    "        Z.value = 1\n",
    "        A.value = 1\n",
    "        T.value = 1.e-6\n",
    "        B.value = 3.7e-6\n",
    "    if Tpe.value == 'Inner ejecta':\n",
    "        Z.value = 60\n",
    "        A.value = 144\n",
    "        T.value = 1.e-6\n",
    "        B.value = 3.7e-6\n",
    "    if Tpe.value == 'Outer':\n",
    "        Z.value = 55\n",
    "        A.value = 133\n",
    "    if Tpe.value == 'GRB afterglow':\n",
    "        Z.value = 1\n",
    "        A.value = 1\n",
    "        T.value = 1.e3  # max value measured in GAMMA (MeV)\n",
    "        B.value = 1.e3  # in G\n",
    "Tpe.observe(update_Z_A, 'value')\n",
    "\n",
    "def update(Tpe, T, rho, B, Z, A, Brem, IE):\n",
    "    \n",
    "    Brem_dict = {\"Barnes (Corrected)\":Brem_Barnes, \"Bethe_SI\":Brem_Bethe_SI}\n",
    "    Brem_opt = [Brem_dict[b] for b in Brem]\n",
    "    IE_dict = {\"Barnes\":IE_Barnes, \"Bethe (non-rel)\":IE_Bethe}\n",
    "    IE_opt = [IE_dict[i] for i in IE]\n",
    "    \n",
    "    plot_rates(T, rho, B, Z, Z, A, Brem=Brem_opt, IE=IE_opt)\n",
    "\n",
    "\n",
    "def response(change):\n",
    "    g.data = []\n",
    "    with g.batch_update():\n",
    "        procs = plotDominantProcess(E_beta_eval.value, Ts, rhos, B.value, Z.value, Z_charge, A.value)\n",
    "        [g.add_trace(p) for p in procs]\n",
    "    g.data[3].on_click(update_T_rho)\n",
    "\n",
    "E_beta_eval.observe(response, \"value\")\n",
    "B.observe(response, \"value\")\n",
    "Tpe.observe(response, \"value\")\n",
    "\n",
    "def update_T_rho(trace, points, state):\n",
    "    \n",
    "    inds = points.point_inds[0]\n",
    "    T.value = trace.customdata[:,:,4][inds[0],inds[1]]\n",
    "    rho.value = trace.customdata[:,:,5][inds[0],inds[1]]\n",
    "    \n",
    "g.data[3].on_click(update_T_rho)"
   ]
  },
  {
   "cell_type": "markdown",
   "id": "a2c12014",
   "metadata": {},
   "source": [
    "## Visualisation\n",
    "\n",
    "The heatmap shows how much each process (<font color='red'>plasma</font>, <font color='green'>IE</font>, <font color='blue'>bremsstrahlung</font>, **synchrotron**) dominates over the others for the value of `E_beta` chosen with the cursor.\n",
    "\n",
    "- Hovering over the heatmap will update the figure showing the degradation processes as a function of kinetic energy.\n",
    "- All parameters are in CGS Gaussian units"
   ]
  },
  {
   "cell_type": "markdown",
   "id": "9c906a6e",
   "metadata": {},
   "source": [
    "### Comments\n",
    "\n",
    "- All the processes are expressed per unit density. So they don't evolve as when changing density, except for synchrotron as the energy loss is independent of the density.\n",
    "\n",
    "\n",
    "- Changing temperature only influences the lower threshold in energy for plasma losses. Increasing temperature increases the energy threshold below which electrons cannot loose their energy (they can't communicate their energy to the thermal electrons.)\n",
    "\n",
    "\n",
    "- Bethe IE losses don't include the relativistic correction that increases the losses at high energies."
   ]
  },
  {
   "cell_type": "code",
   "execution_count": 17,
   "id": "58f52dd9",
   "metadata": {},
   "outputs": [
    {
     "name": "stdout",
     "output_type": "stream",
     "text": [
      "51099.27585286005\n"
     ]
    }
   ],
   "source": [
    "lfac = 1.e5\n",
    "elec_energy = (lfac - 1)*m_e_*c_**2\n",
    "print(to_MeV(elec_energy))"
   ]
  },
  {
   "cell_type": "code",
   "execution_count": 18,
   "id": "e86cbe9f",
   "metadata": {},
   "outputs": [
    {
     "data": {
      "application/vnd.jupyter.widget-view+json": {
       "model_id": "0dd32fd1b7a5424e943ba8c9081a3a0f",
       "version_major": 2,
       "version_minor": 0
      },
      "text/plain": [
       "VBox(children=(HBox(children=(Select(description='Ejecta type', index=1, options=('Hydrogen', 'Inner ejecta', …"
      ]
     },
     "metadata": {},
     "output_type": "display_data"
    },
    {
     "name": "stdout",
     "output_type": "stream",
     "text": [
      "[0.00000000e+00 1.00000000e+00 1.52679642e-02 7.83870314e-23]\n",
      "[1.49211362e-06 1.55209954e-01 1.00000000e+00 7.19111415e-19]\n",
      "[3.81011430e-05 1.00000000e+00 6.94298012e-01 6.63964212e-20]\n",
      "[8.43694185e-05 1.00000000e+00 8.39910007e-02 1.64076167e-21]\n",
      "[3.81011430e-05 1.00000000e+00 6.94298012e-01 6.63964212e-20]\n",
      "[8.43694185e-05 1.00000000e+00 8.39910007e-02 1.64076167e-21]\n",
      "[0.00000000e+00 1.00000000e+00 1.52679642e-02 7.83870314e-23]\n",
      "[0.00000000e+00 1.00000000e+00 1.82144827e-03 4.49770726e-24]\n",
      "[0.00000000e+00 1.00000000e+00 2.19628072e-04 6.38677515e-25]\n",
      "[0.00000000e+00 1.00000000e+00 2.19628072e-04 6.38677515e-17]\n",
      "[0.00000000e+00 1.00000000e+00 2.19628072e-04 6.38677515e-11]\n",
      "[0.00000000e+00 1.00000000e+00 2.19628072e-04 6.38677515e-23]\n",
      "[0.00000000e+00 1.00000000e+00 2.19628072e-04 6.38677515e-17]\n",
      "[0.00000000e+00 1.00000000e+00 2.19628072e-04 6.38677515e-13]\n",
      "[0.00000000e+00 1.00000000e+00 2.19628072e-04 6.38677515e-05]\n",
      "[0.00000000e+00 1.00000000e+00 2.19628072e-04 6.38677515e-07]\n",
      "[0.00000000e+00 1.00000000e+00 2.19628072e-04 6.38677515e-11]\n",
      "[0.00000000e+00 1.00000000e+00 2.19628072e-04 6.38677515e-15]\n",
      "[0.00000000e+00 1.00000000e+00 2.19628072e-04 6.38677515e-11]\n",
      "[0.00000000e+00 1.00000000e+00 2.19628072e-04 6.38677515e-09]\n",
      "[0.00000000e+00 1.00000000e+00 1.82144827e-03 4.49770726e-08]\n",
      "[0.00000000e+00 1.00000000e+00 1.52679642e-02 7.83870314e-07]\n",
      "[8.43694185e-05 1.00000000e+00 8.39910007e-02 1.64076167e-05]\n",
      "[0.00000000e+00 1.00000000e+00 1.52679642e-02 7.83870314e-07]\n"
     ]
    }
   ],
   "source": [
    "# Layout\n",
    "out = widgets.interactive_output(update, \n",
    "                                 {'Tpe':Tpe, 'T': T, 'rho': rho, 'B': B, 'Z':Z, 'A':A, 'Brem':Brem, 'IE':IE})\n",
    "ZA_ui = widgets.VBox([Z, A])\n",
    "compo_ui = widgets.HBox([Tpe, ZA_ui])\n",
    "select_ui = widgets.HBox([Brem, IE])\n",
    "cursors_ui = widgets.VBox([E_beta_eval, T, rho, B])\n",
    "params_ui = widgets.HBox([select_ui, cursors_ui])\n",
    "ui = widgets.HBox([out, g])\n",
    "f = widgets.VBox([compo_ui, params_ui, ui])\n",
    "display(f)"
   ]
  },
  {
   "cell_type": "markdown",
   "id": "a07379e9",
   "metadata": {},
   "source": []
  },
  {
   "cell_type": "code",
   "execution_count": null,
   "id": "d786fd32",
   "metadata": {},
   "outputs": [],
   "source": []
  },
  {
   "cell_type": "code",
   "execution_count": null,
   "id": "f9dfbc70",
   "metadata": {},
   "outputs": [],
   "source": []
  }
 ],
 "metadata": {
  "gist": {
   "data": {
    "description": "elec_degrad.ipynb",
    "public": true
   },
   "id": ""
  },
  "kernelspec": {
   "display_name": "Python 3 (ipykernel)",
   "language": "python",
   "name": "python3"
  },
  "language_info": {
   "codemirror_mode": {
    "name": "ipython",
    "version": 3
   },
   "file_extension": ".py",
   "mimetype": "text/x-python",
   "name": "python",
   "nbconvert_exporter": "python",
   "pygments_lexer": "ipython3",
   "version": "3.7.11"
  }
 },
 "nbformat": 4,
 "nbformat_minor": 5
}
