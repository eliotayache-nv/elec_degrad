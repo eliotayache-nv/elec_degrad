{
 "cells": [
  {
   "cell_type": "code",
   "execution_count": 124,
   "id": "c4d84527",
   "metadata": {},
   "outputs": [],
   "source": [
    "'''\n",
    "This code outputs the energy loss rates following Barnes&Kasen2016\n",
    "(ApJ 829:110, 2016)\n",
    "Section 3: Thermalisation physics.\n",
    "Processes by which energetic decay products thermalize in the KN ejecta.\n",
    "Focus on beta-particles.\n",
    "(Taken from ./energyLossrates.py)\n",
    "'''\n",
    "\n",
    "import numpy as np\n",
    "import matplotlib.pyplot as plt\n",
    "\n",
    "# Constants\n",
    "lambda_ee_ = 10  # Coulomb logarithm for electron-electron scattering\n",
    "m_e_ = 9.10938356e-28  # electron mass (g)\n",
    "m_p_ = 1.6726219e-24 # proton mass (g)\n",
    "r_e_ = 2.8179403227e-13  # classical electron radius (cm)\n",
    "m_u_ = 1.660539e-24  # nuclear mass unit (g)\n",
    "c_ = 2.99792458e10  # light speed (cm/s)\n",
    "kB_ = 8.617333262145e-11  # Boltzmann constant (MeV/K)\n",
    "Msun_ = 2.0e33 # Solar mass (g)\n",
    "\n",
    "delta_ = 1  # power-law profile for inner ejecta (Barnes&Kasen2016)\n",
    "n_ = 1  # power-law profile for outer ejecta (Barnes&Kasen2016)\n",
    "\n",
    "\n",
    "def to_erg(E):\n",
    "    return(E*1.60218e-6)\n",
    "\n",
    "\n",
    "def to_MeV(E):\n",
    "    return(E/1.60218e-6)\n",
    "\n",
    "\n",
    "def plasma_losses(E_beta, n_e, T):\n",
    "    ''' Returns beta_particle losses from interaction with free thermal\n",
    "    electrons (MeV/s).\n",
    "    args:\n",
    "    E_beta = beta-particle kinetic energy (MeV)\n",
    "    n_e = free electron number density (cm-3)\n",
    "    T = ejecta temperature (MeV)\n",
    "    '''\n",
    "\n",
    "    return(7.7e-15 \n",
    "           * E_beta**(-.5) \n",
    "           * n_e * lambda_ee_ \n",
    "           * (1. - (3.9 / 7.7) * T / E_beta))\n",
    "\n",
    "\n",
    "def calc_n_eb(rho, z_over_a):\n",
    "    ''' Returns the bound electron number density (cm-3) for a given\n",
    "    average Z/A.\n",
    "    args:\n",
    "    rho = mass density (g/cm-3)\n",
    "    z_over_a = composition (0.4 inner / 0.55 outer ejecta)\n",
    "    '''\n",
    "    return(rho / m_u_ * z_over_a)\n",
    "\n",
    "\n",
    "def IE_losses(E_beta, Ibar, v_beta, n_eb):\n",
    "    ''' Returns beta_particle losses due to ionization and excitation\n",
    "    of atomic electrons (MeV/s).\n",
    "    args:\n",
    "    E_beta = beta-particle kinetic energy (MeV)\n",
    "    I_bar = average ionization and excitation potential (MeV) (eq. 9)\n",
    "    v_beta = beta-particle speed (cm/s)\n",
    "    n_eb = bound electron number density (cm-3) \n",
    "    '''\n",
    "\n",
    "    tau = to_erg(E_beta) / (m_e_ * c_**2)  # E_beta converted to erg\n",
    "    g = 1 + tau**2 / 8 - (2*tau+1) * np.log(2)\n",
    "    Edot_IE = 2*np.pi * r_e_**2 * m_e_ * c_**3 * n_eb / (v_beta/c_)\n",
    "    Edot_IE *= (2 * np.log(E_beta/Ibar) \n",
    "                + np.log(1 + tau/2) \n",
    "                + (1 - (v_beta/c_)**2) * g)\n",
    "\n",
    "    return(Edot_IE / 1.60218e-6)\n",
    "\n",
    "\n",
    "def synch_losses(v_beta, B):\n",
    "    ''' Returns synchrotron losses from Barnes&Kasen2016 eq. 11. (erg/s)\n",
    "    args:\n",
    "    v_beta = beta particle velocity\n",
    "    B = Magnetic field strength\n",
    "    '''\n",
    "    gamma = np.sqrt(1./(1-(v_beta/c_)**2))\n",
    "    loss = (4./9.) * r_e_**2 * c_ * gamma**2 * (v_beta / c_)**2 * B**2\n",
    "    return(loss)\n",
    "\n",
    "\n",
    "def calc_mass_density(r, t, E, Mej, delta=delta_, n=n_):\n",
    "    ''' Returns the mass density for a given r and t in the ejecta.\n",
    "    args:\n",
    "    r = radius (cm)\n",
    "    t = time (s)\n",
    "    E = Explosion energy (erg)\n",
    "    M = ejecta mass (Msun)\n",
    "    '''\n",
    "\n",
    "    zeta_v = 1\n",
    "    zeta_rho = 1\n",
    "\n",
    "    v_t = 7.1e8 * zeta_v * ((E*1.e-51) / (Mej/Msun))**(.5)\n",
    "\n",
    "    v = r/t\n",
    "    if v < v_t:\n",
    "        rho = zeta_rho * (Mej/(v_t*t)**3) \\\n",
    "              * (r / (v_t*t))**(-delta)\n",
    "    else:\n",
    "        rho = zeta_rho * (Mej/(v_t*t)**3) \\\n",
    "              * (r / (v_t*t))**(-delta)\n",
    "    return(rho)\n"
   ]
  },
  {
   "cell_type": "code",
   "execution_count": 125,
   "id": "f84c9a52",
   "metadata": {},
   "outputs": [],
   "source": [
    "def plot_rates():\n",
    "    plt.plot(E_beta, plasma_losses(E_beta, n_e, T) / rho, label='plasma')\n",
    "    plt.plot(E_beta, IE_losses(E_beta, Ibar, v_beta, n_eb) / rho, label='IE')\n",
    "#     [plt.plot(E_beta, IE_losses(E_beta, Ibar, v_beta, n_eb) / rho) for alpha in np.logspace(-5,5,10)]\n",
    "    # plt.plot(E_beta, synch_losses(v_beta, B) / rho)\n",
    "    plt.xscale('log')\n",
    "    plt.yscale('log')\n",
    "    plt.legend()"
   ]
  },
  {
   "cell_type": "markdown",
   "id": "dded2243",
   "metadata": {},
   "source": [
    "### Plotting loss rates for typical values\n",
    "\n",
    "Ejecta mass: $M_\\mathrm{ej} = 10^{-3} M_\\odot$ \\\n",
    "Ejecta velocity: $v_\\mathrm{ej} = 0.2c$\n",
    "\n",
    "Nebular phase starts at $t \\sim 100$ days:\n",
    "\n",
    "Ejecta density = $M_\\mathrm{ej} / \\frac{4}{3} \\pi (v_\\mathrm{ej}t)^3 = 9 \\times 10^{12}$ g.cm$^{-2}$\n"
   ]
  },
  {
   "cell_type": "code",
   "execution_count": 126,
   "id": "119d1fa4",
   "metadata": {},
   "outputs": [
    {
     "name": "stdout",
     "output_type": "stream",
     "text": [
      "1.717189e-14\n"
     ]
    }
   ],
   "source": [
    "M_ej = 5.e-3 * Msun_\n",
    "v_ej = 0.2 * c_\n",
    "t = 1 * 86400.\n",
    "rho_ej = M_ej / ((4./3.) * np.pi * (v_ej * t)**3)\n",
    "print(\"%e\" %rho_ej)"
   ]
  },
  {
   "cell_type": "code",
   "execution_count": 129,
   "id": "0cacf8f3",
   "metadata": {},
   "outputs": [
    {
     "data": {
      "application/vnd.jupyter.widget-view+json": {
       "model_id": "3caede7278bb47a48ece577ff66478f5",
       "version_major": 2,
       "version_minor": 0
      },
      "text/plain": [
       "Canvas(toolbar=Toolbar(toolitems=[('Home', 'Reset original view', 'home', 'home'), ('Back', 'Back to previous …"
      ]
     },
     "metadata": {},
     "output_type": "display_data"
    }
   ],
   "source": [
    "E_beta = np.logspace(-2, 1, 100) # particle kinetic energy (MeV)\n",
    "T = 1e-6 # MeV\n",
    "z_over_a = 0.4\n",
    "n_e = rho_ej / m_p_ *1.e-3  # number density of bound electrons\n",
    "    # elements heavier than H are singly ionized (low temperatures)\n",
    "    # Composition from Barnes+2016 fig.1 (took A_heavy=1.e-3)\n",
    "    # (this can be refined)\n",
    "Ibar = np.exp(6.4) * 1.e-6 # (MeV)\n",
    "gamma_beta = 1 + to_erg(E_beta) / (m_e_ * c_**2)\n",
    "v_beta = np.sqrt(1 - 1./gamma_beta**2) * c_\n",
    "rho = rho_ej\n",
    "# B = 3.7e-6\n",
    "\n",
    "n_eb = calc_n_eb(rho, z_over_a)\n",
    "\n",
    "%matplotlib widget\n",
    "plot_rates()"
   ]
  },
  {
   "cell_type": "code",
   "execution_count": 98,
   "id": "c09378d9",
   "metadata": {},
   "outputs": [
    {
     "data": {
      "text/plain": [
       "array([0.19498581, 0.20169937, 0.20862885, 0.21577956, 0.22315675,\n",
       "       0.23076562, 0.23861125, 0.24669858, 0.25503242, 0.26361734,\n",
       "       0.27245769, 0.28155756, 0.29092068, 0.30055041, 0.31044968,\n",
       "       0.32062095, 0.33106609, 0.34178638, 0.35278241, 0.36405401,\n",
       "       0.37560017, 0.38741897, 0.39950751, 0.41186181, 0.42447673,\n",
       "       0.4373459 , 0.45046162, 0.46381483, 0.47739499, 0.49119001,\n",
       "       0.50518627, 0.51936848, 0.53371969, 0.5482213 , 0.56285301,\n",
       "       0.57759285, 0.59241726, 0.60730109, 0.62221776, 0.63713931,\n",
       "       0.65203659, 0.66687942, 0.68163679, 0.69627708, 0.7107683 ,\n",
       "       0.72507842, 0.73917556, 0.7530284 , 0.76660641, 0.77988023,\n",
       "       0.79282192, 0.8054053 , 0.81760622, 0.82940281, 0.84077573,\n",
       "       0.85170834, 0.86218684, 0.87220042, 0.88174128, 0.89080464,\n",
       "       0.89938876, 0.90749478, 0.91512665, 0.92229095, 0.9289967 ,\n",
       "       0.93525511, 0.9410794 , 0.94648445, 0.95148662, 0.95610341,\n",
       "       0.96035323, 0.96425514, 0.9678286 , 0.97109323, 0.97406862,\n",
       "       0.97677415, 0.9792288 , 0.98145105, 0.9834587 , 0.98526887,\n",
       "       0.98689784, 0.98836104, 0.98967303, 0.99084743, 0.99189699,\n",
       "       0.99283353, 0.99366799, 0.99441046, 0.9950702 , 0.99565569,\n",
       "       0.99617466, 0.99663415, 0.99704054, 0.9973996 , 0.99771653,\n",
       "       0.99799603, 0.99824231, 0.99845913, 0.99864988, 0.99881757])"
      ]
     },
     "execution_count": 98,
     "metadata": {},
     "output_type": "execute_result"
    }
   ],
   "source": [
    "v_beta/c_"
   ]
  },
  {
   "cell_type": "code",
   "execution_count": 99,
   "id": "8aa2ff28",
   "metadata": {},
   "outputs": [
    {
     "data": {
      "text/plain": [
       "array([-3.44462200e+24, -3.27207098e+24, -3.10746764e+24, -2.95047049e+24,\n",
       "       -2.80075195e+24, -2.65799770e+24, -2.52190621e+24, -2.39218815e+24,\n",
       "       -2.26856592e+24, -2.15077315e+24, -2.03855424e+24, -1.93166387e+24,\n",
       "       -1.82986663e+24, -1.73293653e+24, -1.64065665e+24, -1.55281872e+24,\n",
       "       -1.46922273e+24, -1.38967662e+24, -1.31399590e+24, -1.24200329e+24,\n",
       "       -1.17352844e+24, -1.10840759e+24, -1.04648330e+24, -9.87604115e+23,\n",
       "       -9.31624333e+23, -8.78403715e+23, -8.27807240e+23, -7.79704856e+23,\n",
       "       -7.33971251e+23, -6.90485629e+23, -6.49131502e+23, -6.09796493e+23,\n",
       "       -5.72372142e+23, -5.36753738e+23, -5.02840152e+23, -4.70533689e+23,\n",
       "       -4.39739946e+23, -4.10367689e+23, -3.82328741e+23, -3.55537883e+23,\n",
       "       -3.29912766e+23, -3.05373840e+23, -2.81844295e+23, -2.59250013e+23,\n",
       "       -2.37519530e+23, -2.16584016e+23, -1.96377259e+23, -1.76835663e+23,\n",
       "       -1.57898248e+23, -1.39506663e+23, -1.21605199e+23, -1.04140809e+23,\n",
       "       -8.70631234e+22, -7.03244702e+22, -5.38798896e+22, -3.76871442e+22,\n",
       "       -2.17067230e+22, -5.90183667e+21,  9.76159603e+21,  2.53149729e+22,\n",
       "        4.07870446e+22,  5.62039631e+22,  7.15893425e+22,  8.69643323e+22,\n",
       "        1.02347703e+23,  1.17755940e+23,  1.33203356e+23,  1.48702200e+23,\n",
       "        1.64262784e+23,  1.79893614e+23,  1.95601518e+23,  2.11391790e+23,\n",
       "        2.27268322e+23,  2.43233743e+23,  2.59289552e+23,  2.75436255e+23,\n",
       "        2.91673482e+23,  3.08000116e+23,  3.24414404e+23,  3.40914059e+23,\n",
       "        3.57496367e+23,  3.74158267e+23,  3.90896441e+23,  4.07707380e+23,\n",
       "        4.24587455e+23,  4.41532967e+23,  4.58540201e+23,  4.75605466e+23,\n",
       "        4.92725126e+23,  5.09895637e+23,  5.27113561e+23,  5.44375590e+23,\n",
       "        5.61678557e+23,  5.79019445e+23,  5.96395396e+23,  6.13803711e+23,\n",
       "        6.31241851e+23,  6.48707437e+23,  6.66198249e+23,  6.83712217e+23])"
      ]
     },
     "execution_count": 99,
     "metadata": {},
     "output_type": "execute_result"
    }
   ],
   "source": [
    "IE_losses(E_beta, Ibar, v_beta, n_eb)"
   ]
  },
  {
   "cell_type": "code",
   "execution_count": null,
   "id": "fda3cc8d",
   "metadata": {},
   "outputs": [],
   "source": []
  }
 ],
 "metadata": {
  "kernelspec": {
   "display_name": "Python 3 (ipykernel)",
   "language": "python",
   "name": "python3"
  },
  "language_info": {
   "codemirror_mode": {
    "name": "ipython",
    "version": 3
   },
   "file_extension": ".py",
   "mimetype": "text/x-python",
   "name": "python",
   "nbconvert_exporter": "python",
   "pygments_lexer": "ipython3",
   "version": "3.7.11"
  }
 },
 "nbformat": 4,
 "nbformat_minor": 5
}
