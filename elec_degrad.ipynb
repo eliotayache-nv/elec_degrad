{
 "cells": [
  {
   "cell_type": "markdown",
   "id": "bef86e31",
   "metadata": {},
   "source": [
    "# Electron degradation"
   ]
  },
  {
   "cell_type": "markdown",
   "id": "4dc6b636",
   "metadata": {},
   "source": [
    "### Exploring the different contributions to the energy loss rate for accelerated electrons."
   ]
  },
  {
   "cell_type": "markdown",
   "id": "1a949b46",
   "metadata": {},
   "source": [
    "We start with a bunch of constants and utility functions:"
   ]
  },
  {
   "cell_type": "code",
   "execution_count": 97,
   "id": "802f7e15",
   "metadata": {},
   "outputs": [],
   "source": [
    "'''\n",
    "This code outputs the energy loss rates following Barnes&Kasen2016\n",
    "(ApJ 829:110, 2016)\n",
    "Section 3: Thermalisation physics.\n",
    "Processes by which energetic decay products thermalize in the KN ejecta.\n",
    "Focus on beta-particles.\n",
    "(Taken from ./energyLossrates.py)\n",
    "'''\n",
    "\n",
    "import numpy as np\n",
    "import matplotlib.pyplot as plt\n",
    "import pandas as pd\n",
    "from scipy.interpolate import interp1d\n",
    "import sys\n",
    "import textwrap\n",
    "\n",
    "# Constants\n",
    "lambda_ee_ = 10  # Coulomb logarithm for electron-electron scattering\n",
    "m_e_ = 9.10938356e-28  # electron mass (g)\n",
    "m_p_ = 1.6726219e-24 # proton mass (g)\n",
    "r_e_ = 2.8179403227e-13  # classical electron radius (cm)\n",
    "m_u_ = 1.660539e-24  # nuclear mass unit (g)\n",
    "c_ = 2.99792458e10  # light speed (cm/s)\n",
    "kB_ = 8.617333262145e-11  # Boltzmann constant (MeV/K)\n",
    "Msun_ = 2.0e33 # Solar mass (g)\n",
    "r_0_ = 1.8e-13 # nuclear radius coef for deformed post-scission nuclei (cm)\n",
    "alpha_ = 1./137. # fine structure constant \n",
    "\n",
    "delta_ = 1  # power-law profile for inner ejecta (Barnes&Kasen2016)\n",
    "n_ = 1  # power-law profile for outer ejecta (Barnes&Kasen2016)\n",
    "\n",
    "\n",
    "def to_erg(E):\n",
    "    return(E*1.60218e-6)\n",
    "\n",
    "\n",
    "def to_MeV(E):\n",
    "    return(E/1.60218e-6)"
   ]
  },
  {
   "cell_type": "markdown",
   "id": "9919b5bc",
   "metadata": {},
   "source": [
    "#### Plasma losses\n",
    "Coulomb interactions with free thermal electrons. In the limit that the $\\beta$-particle energy far exceeds that of thermal electrons, **Huba2013** gives:"
   ]
  },
  {
   "cell_type": "code",
   "execution_count": 98,
   "id": "a9b43ac5",
   "metadata": {},
   "outputs": [],
   "source": [
    "def plasma_losses(E_beta, n_e, T):\n",
    "    ''' Returns beta_particle losses from interaction with free thermal\n",
    "    electrons (MeV/s).\n",
    "    args:\n",
    "    E_beta = beta-particle kinetic energy (MeV)\n",
    "    n_e = free electron number density (cm-3)\n",
    "    T = ejecta temperature (MeV)\n",
    "    '''\n",
    "\n",
    "    return(7.7e-15 \n",
    "           * E_beta**(-.5) \n",
    "           * n_e * lambda_ee_ \n",
    "           * (1. - (3.9 / 7.7) * T / E_beta))"
   ]
  },
  {
   "cell_type": "markdown",
   "id": "0e577b44",
   "metadata": {},
   "source": [
    "This assumes that the dominating interactions are electron/electron (ignoring electron/ion interactions). This depends on the density of free thermal electrons, and thus the composition of the medium. It is not clear in Barnes&Kasen2016 whether they assume that all free thermal electrons only come from atoms heavier than hydrogen.\n",
    "\n",
    "**The composition does not evolve significantly over the course of 1-10 days.**\n",
    "\n",
    "- Inner ejecta: single component mean composition Z=60 A=144\n",
    "- Outer ejecta: 2-component: Hydrogen Z=1 A=1, heavy elems Z=55 A=133\\\n",
    "But that hydrogen does not contribute to plasma because it is only singly ionised. Decray of neutrons into protons. A says it should be a small mass component.\n",
    "\n",
    "Axelrod has discussion on this."
   ]
  },
  {
   "cell_type": "markdown",
   "id": "b6f29e9f",
   "metadata": {},
   "source": [
    "#### IE losses\n",
    "When $\\beta$-particles are exciting or inizing bound atomic electrons."
   ]
  },
  {
   "cell_type": "code",
   "execution_count": 99,
   "id": "f1c1b1b9",
   "metadata": {},
   "outputs": [],
   "source": [
    "def calc_n_eb(rho, z_over_a):\n",
    "    ''' Returns the bound electron number density (cm-3) for a given\n",
    "    average Z/A.\n",
    "    args:\n",
    "    rho = mass density (g/cm-3)\n",
    "    z_over_a = composition (0.4 inner / 0.55 outer ejecta)\n",
    "    '''\n",
    "    return(rho / m_u_ * z_over_a)\n",
    "\n",
    "\n",
    "def IE_losses(E_beta, Ibar, v_beta, n_eb):\n",
    "    ''' Returns beta_particle losses due to ionization and excitation\n",
    "    of atomic electrons (MeV/s).\n",
    "    args:\n",
    "    E_beta = beta-particle kinetic energy (MeV)\n",
    "    I_bar = average ionization and excitation potential (MeV) (eq. 9)\n",
    "    v_beta = beta-particle speed (cm/s)\n",
    "    n_eb = bound electron number density (cm-3) \n",
    "    '''\n",
    "\n",
    "    tau = to_erg(E_beta) / (m_e_ * c_**2) \n",
    "    g = 1 + tau**2 / 8 - (2*tau+1) * np.log(2)\n",
    "    Edot_IE = 2*np.pi * r_e_**2 * m_e_ * c_**3 * n_eb / (v_beta/c_)\n",
    "    Edot_IE *= (2 * np.log(E_beta/Ibar) \n",
    "                + np.log(1 + tau/2) \n",
    "                + (1 - (v_beta/c_)**2) * g)\n",
    "\n",
    "    return(to_MeV(Edot_IE))"
   ]
  },
  {
   "cell_type": "markdown",
   "id": "08129e93",
   "metadata": {},
   "source": [
    "#### Synchrotron losses\n",
    "This is strongly dependent on the magnetic field. This is negligible in the kilonova for the expected magnetic field values of 3.6e-6G at 1 day (extracted from eq. 12, Barnes&Kasen2016)"
   ]
  },
  {
   "cell_type": "code",
   "execution_count": 100,
   "id": "71f052d1",
   "metadata": {},
   "outputs": [],
   "source": [
    "def synch_losses(v_beta, B):\n",
    "    ''' Returns synchrotron losses from Barnes&Kasen2016 eq. 11. (MeV/s)\n",
    "    args:\n",
    "    v_beta = beta particle velocity (cm/s)\n",
    "    B = Magnetic field strength (G)\n",
    "    '''\n",
    "    gamma = np.sqrt(1./(1-(v_beta/c_)**2))\n",
    "    loss = (4./9.) * r_e_**2 * c_ * gamma**2 * (v_beta / c_)**2 * B**2\n",
    "    return(to_MeV(loss))"
   ]
  },
  {
   "cell_type": "markdown",
   "id": "375c6f4f",
   "metadata": {},
   "source": [
    "#### Bremsstrahlung\n",
    "This is tricky! Strongly depends on the composition. Assumptions have to be made on the average atomic number of the ejecta, which will also vary depending on whether you are in the inner or outer ejecta. Cross-sections have been tabulated by **Seltzer&Berger1986**."
   ]
  },
  {
   "cell_type": "code",
   "execution_count": 139,
   "id": "c4d84527",
   "metadata": {},
   "outputs": [],
   "source": [
    "def phirad(E_beta, Z):\n",
    "    ''' Returns the scaled total integrated radiative energy-loss \n",
    "    cross-section from Bremsstrahlung (Seltzer&Berger1986)\n",
    "    Notation: phirad\n",
    "    args:\n",
    "    E_beta = electron kinetic energy (MeV)\n",
    "    Z = Atomic number\n",
    "        (characteristic inner ejecta values Z = 60; A = 144)\n",
    "        (characteristic outer ejecta values, two components\n",
    "        Z = 1; A = 1 (hydrogen) and Z = 55; A = 133 (heavier elems))\n",
    "    '''\n",
    "\n",
    "    filename = \"phirad_Z%d.csv\" % Z\n",
    "    try:\n",
    "        data = pd.read_csv(filename, delimiter=\" \")\n",
    "    except FileNotFoundError:\n",
    "        print(textwrap.dedent(\"\"\"\n",
    "              %s File not found. \n",
    "              You are probably asking for a value of Z that is not tabulated here. \n",
    "              See Seltzer&Berger1986 for tabulations for all values.\n",
    "              \"\"\" % filename))\n",
    "        return(-1)\n",
    "    \n",
    "    T1_arr = data.T1.to_numpy() # in MeV, so simply E_beta\n",
    "    phirad_arr = data.phirad.to_numpy()\n",
    "    \n",
    "    def log_interp1d(xx, yy, kind='linear'):\n",
    "        logx = np.log10(xx)\n",
    "        logy = np.log10(yy)\n",
    "        lin_interp = interp1d(logx, logy, kind=kind)\n",
    "        log_interp = lambda zz: np.power(10.0, lin_interp(np.log10(zz)))\n",
    "        return log_interp\n",
    "    \n",
    "    phirad_interp = log_interp1d(T1_arr, phirad_arr)\n",
    "    \n",
    "    return(phirad_interp(E_beta))\n",
    "\n",
    "\n",
    "def Brem_losses(n_i, v_beta, E_beta, Z):\n",
    "    ''' Returns losses due to Bremsstrahlung from \n",
    "    Barnes&Kasen2016 eq.13 (MeV)\n",
    "    n_i = number density of the scattering species (cm-3)\n",
    "    v_beta = beta particle velocity (cm/s)\n",
    "    E_beta = Beta particle kinetic energy (MeV)\n",
    "    Z = Atomic number \n",
    "        (characteristic inner ejecta values Z = 60; A = 144)\n",
    "        (characteristic outer ejecta values, two components\n",
    "        Z = 1; A = 1 (hydrogen) and Z = 55; A = 133 (heavier elems))\n",
    "    '''\n",
    "    E_dot = (n_i * v_beta * (to_erg(E_beta) + m_e_*c_**2)\n",
    "             * Z**2 * r_0_**2 * alpha_ * phirad(E_beta, Z))\n",
    "    return(to_MeV(E_dot))"
   ]
  },
  {
   "cell_type": "markdown",
   "id": "3d974e93",
   "metadata": {},
   "source": [
    "### Plotting loss rates for typical values\n",
    "\n",
    "Ejecta mass: $M_\\mathrm{ej} = 10^{-3} M_\\odot$ \\\n",
    "Ejecta velocity: $v_\\mathrm{ej} = 0.2c$\n",
    "\n",
    "We look at $t=1$day.\n",
    "\n",
    "Ejecta density = $M_\\mathrm{ej} / \\frac{4}{3} \\pi (v_\\mathrm{ej}t)^3 = 1.7 \\times 10^{14}$ g.cm$^{-2}$\n"
   ]
  },
  {
   "cell_type": "code",
   "execution_count": 140,
   "id": "da1d4ca1",
   "metadata": {},
   "outputs": [
    {
     "name": "stdout",
     "output_type": "stream",
     "text": [
      "1.717189e-14\n"
     ]
    }
   ],
   "source": [
    "M_ej = 5.e-3 * Msun_\n",
    "v_ej = 0.2 * c_\n",
    "t = 1 * 86400.\n",
    "rho_ej = M_ej / ((4./3.) * np.pi * (v_ej * t)**3)\n",
    "print(\"%e\" %rho_ej)"
   ]
  },
  {
   "cell_type": "markdown",
   "id": "1c6d78ac",
   "metadata": {},
   "source": [
    "For a given mass density and mass number A, we can compute the number density of scattering species for Bremsstrahlung:"
   ]
  },
  {
   "cell_type": "code",
   "execution_count": 141,
   "id": "a060744d",
   "metadata": {},
   "outputs": [],
   "source": [
    "A = 144 # inner ejecta\n",
    "n_i = rho_ej / (A*m_p_)"
   ]
  },
  {
   "cell_type": "markdown",
   "id": "bef3be57",
   "metadata": {},
   "source": [
    "We can now compute the contributions from plasma, IE and Bremsstrahlung losses. We start by setting up the KN parameters"
   ]
  },
  {
   "cell_type": "code",
   "execution_count": 142,
   "id": "d0738858",
   "metadata": {},
   "outputs": [],
   "source": [
    "E_beta = np.logspace(-2, 1, 100) # particle kinetic energy (MeV)\n",
    "T = 1e-6 # MeV\n",
    "Z = 60  # for inner ejecta\n",
    "A = 144  #for inner ejecta\n",
    "\n",
    "n_e = rho_ej / (A * m_p_) * (1./Z)  # number density of bound electrons\n",
    "    # elements heavier than H are singly ionized (low temperatures)\n",
    "    # Composition from Barnes+2016 fig.1 (took A_heavy=1.e-3)\n",
    "    # (this can be refined)\n",
    "    \n",
    "Ibar = np.exp(6.4) * 1.e-6 # (MeV)\n",
    "gamma_beta = 1 + to_erg(E_beta) / (m_e_ * c_**2)\n",
    "v_beta = np.sqrt(1 - 1./gamma_beta**2) * c_\n",
    "rho = rho_ej\n",
    "B = 3.7e-6"
   ]
  },
  {
   "cell_type": "markdown",
   "id": "fb7f0e22",
   "metadata": {},
   "source": [
    "This is the plotting function"
   ]
  },
  {
   "cell_type": "code",
   "execution_count": 143,
   "id": "1365a0be",
   "metadata": {},
   "outputs": [],
   "source": [
    "def plot_rates(T, rho, B, Z, A):\n",
    "    \n",
    "    n_eb = calc_n_eb(rho, Z/A)\n",
    "    n_e = rho / m_p_ *1.e-3\n",
    "    \n",
    "    plasma = plasma_losses(E_beta, n_e, T) / rho\n",
    "    IE = IE_losses(E_beta, Ibar, v_beta, n_eb) / rho\n",
    "    synch = synch_losses(v_beta, B) / rho\n",
    "    Brem = Brem_losses(n_i, v_beta, E_beta, Z) / rho\n",
    "    tot = plasma + IE + synch + Brem\n",
    "    \n",
    "    plt.figure()\n",
    "    plt.plot(E_beta, plasma, label='plasma')\n",
    "    plt.plot(E_beta, IE, label = 'IE')\n",
    "    plt.plot(E_beta, synch, label = 'synchrotron')\n",
    "    plt.plot(E_beta, Brem, label='Bremsstrahlung')\n",
    "    plt.plot(E_beta, tot, label='total')\n",
    "\n",
    "    plt.xscale('log')\n",
    "    plt.yscale('log')\n",
    "    plt.legend()\n",
    "    plt.show()"
   ]
  },
  {
   "cell_type": "code",
   "execution_count": 145,
   "id": "0cacf8f3",
   "metadata": {},
   "outputs": [
    {
     "data": {
      "application/vnd.jupyter.widget-view+json": {
       "model_id": "01f3963bb436454b8cdc1bb8f8ac5168",
       "version_major": 2,
       "version_minor": 0
      },
      "text/plain": [
       "Canvas(toolbar=Toolbar(toolitems=[('Home', 'Reset original view', 'home', 'home'), ('Back', 'Back to previous …"
      ]
     },
     "metadata": {},
     "output_type": "display_data"
    }
   ],
   "source": [
    "%matplotlib widget\n",
    "plot_rates(T, rho, B, Z, A)"
   ]
  },
  {
   "cell_type": "markdown",
   "id": "94243e84",
   "metadata": {},
   "source": [
    "### Parameter exploration\n",
    "\n",
    "We ll take a look at the losses as a function of $T$, $\\rho$ and $B$.\n",
    "\n",
    "The questions are:\n",
    "- Can synchrotron dominate at some point in KN evolution?\n",
    "- Can something else than Synchrotron dominate at some point in GRB afterglows?"
   ]
  },
  {
   "cell_type": "code",
   "execution_count": 148,
   "id": "d23eedd5",
   "metadata": {},
   "outputs": [
    {
     "data": {
      "application/vnd.jupyter.widget-view+json": {
       "model_id": "78b07a5813e147be87766a418c124a30",
       "version_major": 2,
       "version_minor": 0
      },
      "text/plain": [
       "HBox(children=(Output(), VBox(children=(Select(description='Ejecta type', index=1, options=('Hydrogen', 'Inner…"
      ]
     },
     "metadata": {},
     "output_type": "display_data"
    }
   ],
   "source": [
    "%matplotlib inline\n",
    "from ipywidgets import *\n",
    "\n",
    "Tpe = widgets.Select(description='Ejecta type', \n",
    "                     options=['Hydrogen', 'Inner ejecta'], \n",
    "                     value='Inner ejecta')\n",
    "T = widgets.FloatLogSlider(description='T', min=-10, max=0, value=1.e-6, step=1)\n",
    "rho = widgets.FloatLogSlider(description='rho', min=-18, max=-10, value=1.e-14, step=1)\n",
    "B = widgets.FloatLogSlider(description='B', min=-10, max=5, value=1.e-6, step=1)\n",
    "Z = widgets.Dropdown(description='Z', options=[1,60], value=60)\n",
    "A = widgets.Dropdown(description='A', options=[1,133,144], value=144)\n",
    "params_ui = widgets.VBox([Tpe, T, rho, B, Z, A])\n",
    "\n",
    "def update_Z_A(*args):\n",
    "    if Tpe.value == 'Hydrogen':\n",
    "        Z.value = 1\n",
    "        A.value = 1\n",
    "    if Tpe.value == 'Inner ejecta':\n",
    "        Z.value = 60\n",
    "        A.value = 144\n",
    "    if Tpe.value == 'Outer':\n",
    "        Z.value = 55\n",
    "        A.value = 133\n",
    "Tpe.observe(update_Z_A, 'value')\n",
    "\n",
    "def update(Tpe, T, rho, B, Z, A):\n",
    "    plot_rates(T, rho, B, Z, A)\n",
    "        \n",
    "out = widgets.interactive_output(update, {'Tpe':Tpe, 'T': T, 'rho': rho, 'B': B, 'Z':Z, 'A':A})\n",
    "\n",
    "ui = widgets.HBox([out, params_ui])\n",
    "display(ui)\n"
   ]
  },
  {
   "cell_type": "markdown",
   "id": "4a68b15d",
   "metadata": {},
   "source": [
    "Now we need to evolve this following Meztger review for temperature and density."
   ]
  },
  {
   "cell_type": "markdown",
   "id": "5814cf2e",
   "metadata": {},
   "source": [
    "A: Goes into homologuous expansion: $\\rho \\propto t^{-3}$. Quentin's work suggests that T might be increasing. In some models. T might go up to $10^{5}K$, but probably not above. "
   ]
  },
  {
   "cell_type": "markdown",
   "id": "835cba68",
   "metadata": {},
   "source": [
    "hello"
   ]
  },
  {
   "cell_type": "code",
   "execution_count": null,
   "id": "3279651f",
   "metadata": {},
   "outputs": [],
   "source": []
  }
 ],
 "metadata": {
  "gist": {
   "data": {
    "description": "elec_degrad.ipynb",
    "public": true
   },
   "id": ""
  },
  "kernelspec": {
   "display_name": "Python 3 (ipykernel)",
   "language": "python",
   "name": "python3"
  },
  "language_info": {
   "codemirror_mode": {
    "name": "ipython",
    "version": 3
   },
   "file_extension": ".py",
   "mimetype": "text/x-python",
   "name": "python",
   "nbconvert_exporter": "python",
   "pygments_lexer": "ipython3",
   "version": "3.7.11"
  }
 },
 "nbformat": 4,
 "nbformat_minor": 5
}
